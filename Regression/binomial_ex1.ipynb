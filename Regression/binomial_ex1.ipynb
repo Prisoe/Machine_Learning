{
 "cells": [
  {
   "cell_type": "code",
   "execution_count": 21,
   "metadata": {},
   "outputs": [
    {
     "name": "stderr",
     "output_type": "stream",
     "text": [
      "C:\\Anaconda3\\lib\\site-packages\\ipykernel_launcher.py:12: MatplotlibDeprecationWarning: \n",
      "The 'normed' kwarg was deprecated in Matplotlib 2.1 and will be removed in 3.1. Use 'density' instead.\n",
      "  if sys.path[0] == '':\n"
     ]
    },
    {
     "data": {
      "image/png": "[encoded data removed]",
      "text/plain": [
       "<Figure size 432x288 with 1 Axes>"
      ]
     },
     "metadata": {
      "needs_background": "light"
     },
     "output_type": "display_data"
    }
   ],
   "source": [
    "import matplotlib.pyplot as plt #Import the plot library\n",
    "import numpy as np\n",
    "\n",
    "plt.figure()\n",
    "# Draw samples from a binomial distribution: np.random.binomial(n, p, size=None)\n",
    "# with specified parameters, n trials in one experiment, p probability of success, size the number of experiments, where n an integer >= 0 and p is in the interval [0,1].\n",
    "# result of flipping a coin 1 time, repeated 10000 times.\n",
    "# generates a 10000-number vector, each number being from (1,0.6) binomial distribution\n",
    "#distro = np.random.binomial(1, .6, 10000)/0.5\n",
    "#plt.hist(distro, 2 , normed=1)\n",
    "distro = np.random.binomial(100, .6, 10000)/0.01\n",
    "plt.hist(distro, 100 , normed=1)\n",
    "plt.show()\n",
    "\n"
   ]
  },
  {
   "cell_type": "code",
   "execution_count": null,
   "metadata": {},
   "outputs": [],
   "source": []
  }
 ],
 "metadata": {
  "kernelspec": {
   "display_name": "Python 3.10.7 64-bit (microsoft store)",
   "language": "python",
   "name": "python3"
  },
  "language_info": {
   "codemirror_mode": {
    "name": "ipython",
    "version": 3
   },
   "file_extension": ".py",
   "mimetype": "text/x-python",
   "name": "python",
   "nbconvert_exporter": "python",
   "pygments_lexer": "ipython3",
   "version": "3.10.7"
  },
  "vscode": {
   "interpreter": {
    "hash": "ac7d31fc97af9e5d12b2da42ac39425f6d622ecdf29c1aa0dad1ac3b4b237230"
   }
  }
 },
 "nbformat": 4,
 "nbformat_minor": 4
}
