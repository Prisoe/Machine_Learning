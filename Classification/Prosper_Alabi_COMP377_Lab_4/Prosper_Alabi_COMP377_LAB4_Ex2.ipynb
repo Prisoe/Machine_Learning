{
 "cells": [
  {
   "cell_type": "code",
   "execution_count": 41,
   "id": "12127069",
   "metadata": {},
   "outputs": [],
   "source": [
    "import tensorflow as tf\n",
    "import pandas as pd\n",
    "import numpy as np"
   ]
  },
  {
   "cell_type": "code",
   "execution_count": 42,
   "id": "20cb3fa0",
   "metadata": {},
   "outputs": [],
   "source": [
    "(X_train, y_train), (X_test, y_test) = tf.keras.datasets.cifar10.load_data()"
   ]
  },
  {
   "cell_type": "code",
   "execution_count": 43,
   "id": "f0400fc7",
   "metadata": {},
   "outputs": [
    {
     "data": {
      "text/plain": [
       "((50000, 32, 32, 3), (10000, 32, 32, 3))"
      ]
     },
     "execution_count": 43,
     "metadata": {},
     "output_type": "execute_result"
    }
   ],
   "source": [
    "# Checking the shape\n",
    "X_train.shape, X_test.shape"
   ]
  },
  {
   "cell_type": "code",
   "execution_count": 44,
   "id": "91810a75",
   "metadata": {},
   "outputs": [],
   "source": [
    "# Checking the shape\n",
    "y_train = y_train.reshape(50000)\n",
    "y_test = y_test.reshape(10000)"
   ]
  },
  {
   "cell_type": "code",
   "execution_count": 45,
   "id": "427d3cf5",
   "metadata": {},
   "outputs": [],
   "source": [
    "# Reshape the data to the a 2d array from a 3d array\n",
    "X_train = X_train.reshape(50000, 3072)\n",
    "X_test =  X_test.reshape(10000, 3072)"
   ]
  },
  {
   "cell_type": "code",
   "execution_count": 46,
   "id": "520c42f5",
   "metadata": {},
   "outputs": [
    {
     "data": {
      "text/plain": [
       "((50000, 3072), (10000, 3072))"
      ]
     },
     "execution_count": 46,
     "metadata": {},
     "output_type": "execute_result"
    }
   ],
   "source": [
    "# Confirming the shape\n",
    "X_train.shape, X_test.shape"
   ]
  },
  {
   "cell_type": "code",
   "execution_count": 47,
   "id": "0cad4582",
   "metadata": {},
   "outputs": [],
   "source": [
    "# Changing to a dataframe\n",
    "X_train_df = pd.DataFrame(X_train)\n",
    "X_test_df = pd.DataFrame(X_test)"
   ]
  },
  {
   "cell_type": "code",
   "execution_count": 48,
   "id": "716bd9af",
   "metadata": {},
   "outputs": [],
   "source": [
    "# Getting the specified number of rows\n",
    "X_train_df.drop(X_train_df.index[50:], axis=\"index\", inplace=True)\n",
    "X_test_df.drop(X_test_df.index[10:], axis=\"index\", inplace=True)"
   ]
  },
  {
   "cell_type": "code",
   "execution_count": 49,
   "id": "18813954",
   "metadata": {},
   "outputs": [],
   "source": [
    "X_train = X_train_df\n",
    "X_test = X_test_df"
   ]
  },
  {
   "cell_type": "code",
   "execution_count": 50,
   "id": "5d306c73",
   "metadata": {},
   "outputs": [
    {
     "data": {
      "text/plain": [
       "((50, 3072), (10, 3072))"
      ]
     },
     "execution_count": 50,
     "metadata": {},
     "output_type": "execute_result"
    }
   ],
   "source": [
    "X_train.shape, X_test.shape"
   ]
  },
  {
   "cell_type": "code",
   "execution_count": 51,
   "id": "2ac0962b",
   "metadata": {},
   "outputs": [],
   "source": [
    "# Getting the specified number of rows\n",
    "y_test = pd.Series(y_test[:10])"
   ]
  },
  {
   "cell_type": "code",
   "execution_count": 52,
   "id": "2c0f5157",
   "metadata": {},
   "outputs": [],
   "source": [
    "# Getting the specified number of rows\n",
    "y_train = pd.Series(y_train[:50])"
   ]
  },
  {
   "cell_type": "code",
   "execution_count": 53,
   "id": "50064e20",
   "metadata": {},
   "outputs": [
    {
     "data": {
      "text/plain": [
       "((10,), (50,))"
      ]
     },
     "execution_count": 53,
     "metadata": {},
     "output_type": "execute_result"
    }
   ],
   "source": [
    "y_test.shape, y_train.shape"
   ]
  },
  {
   "cell_type": "code",
   "execution_count": 54,
   "id": "7ed9e647",
   "metadata": {},
   "outputs": [],
   "source": [
    "X_test\n",
    "X = X_test_df.to_numpy()"
   ]
  },
  {
   "cell_type": "code",
   "execution_count": 55,
   "id": "14b90621",
   "metadata": {},
   "outputs": [],
   "source": [
    "class_names = y_train + y_test\n",
    "num_classes = len(class_names)"
   ]
  },
  {
   "cell_type": "code",
   "execution_count": 56,
   "id": "738d9518",
   "metadata": {},
   "outputs": [],
   "source": [
    "import tensorflow as tf\n",
    "from tensorflow import keras\n",
    "from tensorflow.keras import layers\n",
    "from tensorflow.keras.models import Sequential"
   ]
  },
  {
   "cell_type": "code",
   "execution_count": 57,
   "id": "889d0297",
   "metadata": {},
   "outputs": [],
   "source": [
    "#use these two lines when you use tensorflow models.\n",
    "#This woud avoid several warnings and errors\n",
    "tf.config.run_functions_eagerly(True)\n",
    "tf.data.experimental.enable_debug_mode()\n"
   ]
  },
  {
   "cell_type": "code",
   "execution_count": 58,
   "id": "798e3610",
   "metadata": {},
   "outputs": [],
   "source": [
    "model1 = Sequential([\n",
    "    #model expects rows of feature data with shape input_shape\n",
    "    # input_shape=(8, 8, 1) implies 8x8 images, channel 1 (i.e. channel is grayscale)   \n",
    "    layers.InputLayer(input_shape=(32, 32, 3)),\n",
    "    \n",
    "    layers.Conv2D(16, 3, padding='same', activation='relu'),  #hidden layer\n",
    "    layers.MaxPooling2D(),\n",
    "    \n",
    "    layers.Conv2D(64, 3, padding='same', activation='relu'),  #hidden layer\n",
    "    layers.MaxPooling2D(),\n",
    "    \n",
    "    layers.Flatten(), #create array of pixels of single dimension since Dense takes 1D input\n",
    "    \n",
    "    layers.Dense(128, activation='relu'),  #hidden layer\n",
    "    \n",
    "    #no activation function is used inside output layer\n",
    "    layers.Dense(num_classes)  #output layer\n",
    "])"
   ]
  },
  {
   "cell_type": "code",
   "execution_count": 59,
   "id": "30569f92",
   "metadata": {},
   "outputs": [
    {
     "name": "stdout",
     "output_type": "stream",
     "text": [
      "Model: \"sequential_1\"\n",
      "_________________________________________________________________\n",
      " Layer (type)                Output Shape              Param #   \n",
      "=================================================================\n",
      " conv2d_2 (Conv2D)           (None, 32, 32, 16)        448       \n",
      "                                                                 \n",
      " max_pooling2d_2 (MaxPooling  (None, 16, 16, 16)       0         \n",
      " 2D)                                                             \n",
      "                                                                 \n",
      " conv2d_3 (Conv2D)           (None, 16, 16, 64)        9280      \n",
      "                                                                 \n",
      " max_pooling2d_3 (MaxPooling  (None, 8, 8, 64)         0         \n",
      " 2D)                                                             \n",
      "                                                                 \n",
      " flatten_1 (Flatten)         (None, 4096)              0         \n",
      "                                                                 \n",
      " dense_2 (Dense)             (None, 128)               524416    \n",
      "                                                                 \n",
      " dense_3 (Dense)             (None, 50)                6450      \n",
      "                                                                 \n",
      "=================================================================\n",
      "Total params: 540,594\n",
      "Trainable params: 540,594\n",
      "Non-trainable params: 0\n",
      "_________________________________________________________________\n"
     ]
    }
   ],
   "source": [
    "model1.summary()"
   ]
  },
  {
   "cell_type": "code",
   "execution_count": 60,
   "id": "3ab4e851",
   "metadata": {},
   "outputs": [],
   "source": [
    "#since output layer in this case does not have a softmax activation function,\n",
    "#the from_logits=True attribute informs the loss function that the output values \n",
    "#generated by the model are not normalized\n",
    "model1.compile(optimizer='adam',\n",
    "              loss=keras.losses.SparseCategoricalCrossentropy(from_logits=True),\n",
    "              metrics=['accuracy'])"
   ]
  },
  {
   "cell_type": "code",
   "execution_count": 61,
   "id": "25170c63",
   "metadata": {},
   "outputs": [
    {
     "data": {
      "text/plain": [
       "array([[[158, 112,  49],\n",
       "        [159, 111,  47],\n",
       "        [165, 116,  51],\n",
       "        ...,\n",
       "        [137,  95,  36],\n",
       "        [126,  91,  36],\n",
       "        [116,  85,  33]],\n",
       "\n",
       "       [[152, 112,  51],\n",
       "        [151, 110,  40],\n",
       "        [159, 114,  45],\n",
       "        ...,\n",
       "        [136,  95,  31],\n",
       "        [125,  91,  32],\n",
       "        [119,  88,  34]],\n",
       "\n",
       "       [[151, 110,  47],\n",
       "        [151, 109,  33],\n",
       "        [158, 111,  36],\n",
       "        ...,\n",
       "        [139,  98,  34],\n",
       "        [130,  95,  34],\n",
       "        [120,  89,  33]],\n",
       "\n",
       "       ...,\n",
       "\n",
       "       [[ 68, 124, 177],\n",
       "        [ 42, 100, 148],\n",
       "        [ 31,  88, 137],\n",
       "        ...,\n",
       "        [ 38,  97, 146],\n",
       "        [ 13,  64, 108],\n",
       "        [ 40,  85, 127]],\n",
       "\n",
       "       [[ 61, 116, 168],\n",
       "        [ 49, 102, 148],\n",
       "        [ 35,  85, 132],\n",
       "        ...,\n",
       "        [ 26,  82, 130],\n",
       "        [ 29,  82, 126],\n",
       "        [ 20,  64, 107]],\n",
       "\n",
       "       [[ 54, 107, 160],\n",
       "        [ 56, 105, 149],\n",
       "        [ 45,  89, 132],\n",
       "        ...,\n",
       "        [ 24,  77, 124],\n",
       "        [ 34,  84, 129],\n",
       "        [ 21,  67, 110]]], dtype=uint8)"
      ]
     },
     "execution_count": 61,
     "metadata": {},
     "output_type": "execute_result"
    }
   ],
   "source": [
    "X[0].reshape(32, 32, 3) # reshape the 0th row into the 32 by 32 array"
   ]
  },
  {
   "cell_type": "code",
   "execution_count": 62,
   "id": "0821d5a3",
   "metadata": {},
   "outputs": [],
   "source": [
    "Xrs = X.reshape( 10, 32, 32, 3)"
   ]
  },
  {
   "cell_type": "code",
   "execution_count": 63,
   "id": "0d82c301",
   "metadata": {},
   "outputs": [
    {
     "name": "stdout",
     "output_type": "stream",
     "text": [
      "Epoch 1/5\n",
      "1/1 [==============================] - 0s 90ms/step - loss: 92.1992 - accuracy: 0.0000e+00\n",
      "Epoch 2/5\n",
      "1/1 [==============================] - 0s 69ms/step - loss: 53.7302 - accuracy: 0.1000\n",
      "Epoch 3/5\n",
      "1/1 [==============================] - 0s 60ms/step - loss: 17.8022 - accuracy: 0.5000\n",
      "Epoch 4/5\n",
      "1/1 [==============================] - 0s 67ms/step - loss: 4.6076 - accuracy: 0.8000\n",
      "Epoch 5/5\n",
      "1/1 [==============================] - 0s 54ms/step - loss: 5.5998 - accuracy: 0.5000\n"
     ]
    },
    {
     "data": {
      "text/plain": [
       "<keras.callbacks.History at 0x1b653f5b220>"
      ]
     },
     "execution_count": 63,
     "metadata": {},
     "output_type": "execute_result"
    }
   ],
   "source": [
    "model1.fit(Xrs, y_test, epochs=5)"
   ]
  },
  {
   "cell_type": "code",
   "execution_count": 64,
   "id": "33a54d04",
   "metadata": {},
   "outputs": [],
   "source": [
    "score = model1.evaluate(Xrs, y_test, verbose=0) #finding accuracy of the model"
   ]
  },
  {
   "cell_type": "code",
   "execution_count": 65,
   "id": "ff1272a0",
   "metadata": {},
   "outputs": [
    {
     "name": "stdout",
     "output_type": "stream",
     "text": [
      "Test loss: 1.705735445022583\n",
      "Test accuracy: 0.699999988079071\n"
     ]
    }
   ],
   "source": [
    "print(\"Test loss:\", score[0])\n",
    "print(\"Test accuracy:\", score[1])"
   ]
  },
  {
   "cell_type": "code",
   "execution_count": null,
   "id": "15ec0128",
   "metadata": {},
   "outputs": [],
   "source": []
  }
 ],
 "metadata": {
  "kernelspec": {
   "display_name": "Python 3 (ipykernel)",
   "language": "python",
   "name": "python3"
  },
  "language_info": {
   "codemirror_mode": {
    "name": "ipython",
    "version": 3
   },
   "file_extension": ".py",
   "mimetype": "text/x-python",
   "name": "python",
   "nbconvert_exporter": "python",
   "pygments_lexer": "ipython3",
   "version": "3.9.12"
  }
 },
 "nbformat": 4,
 "nbformat_minor": 5
}
